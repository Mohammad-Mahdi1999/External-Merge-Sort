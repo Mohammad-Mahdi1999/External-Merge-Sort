{
 "cells": [
  {
   "cell_type": "code",
   "execution_count": 1,
   "id": "efb83dff",
   "metadata": {},
   "outputs": [],
   "source": [
    "import datetime"
   ]
  },
  {
   "cell_type": "code",
   "execution_count": 2,
   "id": "383c4015",
   "metadata": {},
   "outputs": [
    {
     "name": "stdout",
     "output_type": "stream",
     "text": [
      "200 million random 64-bit numbers have been generated and saved to 'random_numbers.txt'.\n",
      "Total runtime of the program is 0:02:31.721260\n"
     ]
    }
   ],
   "source": [
    "import numpy as np\n",
    "import pandas as pd\n",
    "\n",
    "start_time = datetime.datetime.now()\n",
    "\n",
    "size_million = 200 # Million Numbers\n",
    "\n",
    "# Generate 2 million random 64-bit integers\n",
    "random_numbers = np.random.randint(low=np.iinfo(np.int64).min,\n",
    "                                   high=np.iinfo(np.int64).max,\n",
    "                                   size= size_million * 1_000_000,\n",
    "                                   dtype=np.int64)\n",
    "\n",
    "# Convert the array to a DataFrame\n",
    "df = pd.DataFrame(random_numbers, columns=['RandomNumber'])\n",
    "\n",
    "# Save the DataFrame to a CSV file\n",
    "df.to_csv('random_numbers.txt', index=False, header=False)\n",
    "\n",
    "print(f\"{size_million} million random 64-bit numbers have been generated and saved to 'random_numbers.txt'.\")\n",
    "\n",
    "end_time = datetime.datetime.now()\n",
    "\n",
    "print(f\"Total runtime of the program is {end_time - start_time}\")\n"
   ]
  },
  {
   "cell_type": "code",
   "execution_count": 3,
   "id": "ebb29cbc",
   "metadata": {},
   "outputs": [
    {
     "name": "stdout",
     "output_type": "stream",
     "text": [
      "Sorted data written to sorted_data.txt\n",
      "Total runtime of the program is 0:06:29.808588\n"
     ]
    }
   ],
   "source": [
    "import heapq\n",
    "import os\n",
    "\n",
    "import datetime\n",
    "\n",
    "start_time = datetime.datetime.now()\n",
    "\n",
    "def external_merge_sort(input_file, output_file, run_size):\n",
    "    # Read input_file in chunks (runs) and sort each run\n",
    "    with open(input_file, 'r') as infile:\n",
    "        runs = []\n",
    "        while True:\n",
    "            chunk = infile.read(run_size)\n",
    "            if not chunk:\n",
    "                break\n",
    "            run = sorted(map(int, chunk.split()))  # Assuming integers, adapt as needed\n",
    "            runs.append(run)\n",
    "\n",
    "    # Merge the sorted runs\n",
    "    with open(output_file, 'w') as outfile:\n",
    "        heap = [(run[0], i, 0) for i, run in enumerate(runs)]\n",
    "        heapq.heapify(heap)\n",
    "\n",
    "        while heap:\n",
    "            val, run_idx, idx = heapq.heappop(heap)\n",
    "            outfile.write(f\"{val}\\n\")\n",
    "\n",
    "            if idx + 1 < len(runs[run_idx]):\n",
    "                next_val = runs[run_idx][idx + 1]\n",
    "                heapq.heappush(heap, (next_val, run_idx, idx + 1))\n",
    "\n",
    "    print(f\"Sorted data written to {output_file}\")\n",
    "\n",
    "# Example usage\n",
    "input_file = 'random_numbers.txt'  # Replace with your input file\n",
    "output_file = 'sorted_data.txt'  # Replace with your output file\n",
    "run_size = 200 * 1024 * 1024  # 200 MB in bytes\n",
    "\n",
    "external_merge_sort(input_file, output_file, run_size)\n",
    "\n",
    "end_time = datetime.datetime.now()\n",
    "\n",
    "print(f\"Total runtime of the program is {end_time - start_time}\")\n",
    "\n"
   ]
  },
  {
   "cell_type": "code",
   "execution_count": null,
   "id": "588791cd",
   "metadata": {},
   "outputs": [],
   "source": []
  }
 ],
 "metadata": {
  "kernelspec": {
   "display_name": "Python 3 (ipykernel)",
   "language": "python",
   "name": "python3"
  },
  "language_info": {
   "codemirror_mode": {
    "name": "ipython",
    "version": 3
   },
   "file_extension": ".py",
   "mimetype": "text/x-python",
   "name": "python",
   "nbconvert_exporter": "python",
   "pygments_lexer": "ipython3",
   "version": "3.11.5"
  }
 },
 "nbformat": 4,
 "nbformat_minor": 5
}
